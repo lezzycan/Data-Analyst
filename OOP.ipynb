{
 "cells": [
  {
   "cell_type": "code",
   "execution_count": null,
   "id": "55751db3-2968-4d57-982f-9a38e4711415",
   "metadata": {},
   "outputs": [],
   "source": [
    "class Person:\n",
    "    pass\n",
    "        "
   ]
  },
  {
   "cell_type": "code",
   "execution_count": 1,
   "id": "685fbd54-c359-4ce7-b66a-0a1bc1a77d38",
   "metadata": {},
   "outputs": [],
   "source": [
    "class Person:\n",
    "    def __init__(self, name, surname, dob):  #self serves like a pointer\n",
    "        self.surname = surname\n",
    "        self.name = name\n",
    "        self.dob = dob\n",
    "        "
   ]
  },
  {
   "cell_type": "code",
   "execution_count": 2,
   "id": "1b7703ca-9c70-4141-8577-40c82f66671c",
   "metadata": {},
   "outputs": [],
   "source": [
    "p = Person(\"Ola\", \"Ade\", 28, )"
   ]
  },
  {
   "cell_type": "code",
   "execution_count": 14,
   "id": "2734b172-8db2-4ea3-b16e-bad43ba116f2",
   "metadata": {},
   "outputs": [
    {
     "data": {
      "text/plain": [
       "28"
      ]
     },
     "execution_count": 14,
     "metadata": {},
     "output_type": "execute_result"
    }
   ],
   "source": [
    "p.dob"
   ]
  },
  {
   "cell_type": "code",
   "execution_count": 40,
   "id": "f1f95748-c5d5-4faa-acce-a7dafdf72494",
   "metadata": {},
   "outputs": [],
   "source": [
    " class person:\n",
    "     def __init__ (self, name, surname, dob):   #when declaring a method inside a class always declare a pointer\n",
    "         self.name = name\n",
    "         self.surname = surname\n",
    "         self.dob = dob\n",
    "\n",
    "     def test(constructor, n,m):\n",
    "         return n + m + constructor.dob  #to access dob from other method i have to use the pointer\n",
    "     def __str__(self):\n",
    "         return \"%s is a first name and its surname is %s and year of birth is %d \" %(self.name, self.surname, self.dob)"
   ]
  },
  {
   "cell_type": "code",
   "execution_count": 42,
   "id": "d083a59b-fbdd-4630-8e64-7a9e9b4948e0",
   "metadata": {},
   "outputs": [
    {
     "name": "stdout",
     "output_type": "stream",
     "text": [
      "Ade is a first name and its surname is Kunle and year of birth is 20 \n"
     ]
    }
   ],
   "source": [
    "p = person(\"Ade\", \"Kunle\", 20)\n",
    "p.test(20,10)\n",
    "print(p)"
   ]
  },
  {
   "cell_type": "code",
   "execution_count": 46,
   "id": "69f5941b-9ea5-4928-b97e-21a91febdc54",
   "metadata": {},
   "outputs": [],
   "source": [
    "# __init method is the best programming language for classes\n",
    "class Animal:\n",
    "    def attri(constr, legs, eyes, hasTail):\n",
    "        constr.legs = legs\n",
    "        constr.eyes = eyes\n",
    "        constr.hasTail = hasTail\n",
    "\n",
    "dogs = Animal()\n",
    "hen = Animal()\n",
    "dogs.attri(4, 2, True)\n",
    "hen.attri(2, 2, False)\n",
    "        "
   ]
  },
  {
   "cell_type": "code",
   "execution_count": 48,
   "id": "2f127794-3f76-4af0-b81d-ecaeea77f9df",
   "metadata": {},
   "outputs": [
    {
     "name": "stdout",
     "output_type": "stream",
     "text": [
      "False\n"
     ]
    }
   ],
   "source": [
    "print(hen.hasTail)"
   ]
  },
  {
   "cell_type": "code",
   "execution_count": 5,
   "id": "f253538a-98c9-4c8f-909f-f1b689c11a64",
   "metadata": {},
   "outputs": [],
   "source": [
    "#Abstraction : hiding complex implementation, just showing essential information to users\n",
    "class Person:\n",
    "    def __init__(self, name, surname, dob):  #self serves like a pointer\n",
    "        self._surname = surname    # private\n",
    "        self._name = name\n",
    "        self._dob = dob"
   ]
  },
  {
   "cell_type": "code",
   "execution_count": 6,
   "id": "bb31a252-3847-493c-ba2a-8b636d6784ca",
   "metadata": {},
   "outputs": [],
   "source": [
    "k = Person(\"Ola\", \"Ade\", 28)"
   ]
  },
  {
   "cell_type": "code",
   "execution_count": 14,
   "id": "3f99e8c8-51fd-4755-b45c-3ba0af397c58",
   "metadata": {},
   "outputs": [
    {
     "data": {
      "text/plain": [
       "'Ade'"
      ]
     },
     "execution_count": 14,
     "metadata": {},
     "output_type": "execute_result"
    }
   ],
   "source": [
    "k._surname "
   ]
  },
  {
   "cell_type": "code",
   "execution_count": 16,
   "id": "b43f5ecf-224e-489f-8573-cad5d877b8dc",
   "metadata": {},
   "outputs": [
    {
     "data": {
      "text/plain": [
       "{'_surname': 'Ade', '_name': 'Ola', '_dob': 28}"
      ]
     },
     "execution_count": 16,
     "metadata": {},
     "output_type": "execute_result"
    }
   ],
   "source": [
    "k.__dict__"
   ]
  },
  {
   "cell_type": "code",
   "execution_count": null,
   "id": "623b39be-8444-4dfa-ad83-de206cc1a4f9",
   "metadata": {},
   "outputs": [],
   "source": []
  },
  {
   "cell_type": "code",
   "execution_count": 7,
   "id": "9416e9f2-c168-4077-97e6-800c5793e4e5",
   "metadata": {},
   "outputs": [],
   "source": [
    "# Inheritance : allows to define a class that inherits all the methods and properties from another class\n",
    "# our student will inherit the Person class\n",
    "class Student(Person): \n",
    "    def __init__(self, roll_no, college_name, *args):\n",
    "        super(Student, self).__init__(*args)    # this simple means Person.__init__, likely trying to invoke the Person class\n",
    "        self.roll_no = roll_no\n",
    "        self.college_name = college_name\n",
    "\n",
    "student = Student(123, 'Sheffield Hallam', 'Ade', 'Waheed', 28)"
   ]
  },
  {
   "cell_type": "code",
   "execution_count": 8,
   "id": "ed1b2401-0d46-4f96-9b56-11baa0ea7149",
   "metadata": {},
   "outputs": [
    {
     "name": "stdout",
     "output_type": "stream",
     "text": [
      "Ade\n"
     ]
    }
   ],
   "source": [
    "print(student._name)"
   ]
  },
  {
   "cell_type": "code",
   "execution_count": 29,
   "id": "78ec8439-813a-4326-be76-4779ef4568c1",
   "metadata": {},
   "outputs": [],
   "source": [
    "class a:\n",
    "    def test(constr):\n",
    "        print(\"Manchester United\")\n",
    "\n",
    "class b:\n",
    "    def test(constr):\n",
    "        print(\"Win some trophies\")\n",
    "\n",
    "class c(a,b):\n",
    "    obja = a()\n",
    "    objb = b()\n",
    "    obja.test\n",
    "    objb.test"
   ]
  },
  {
   "cell_type": "code",
   "execution_count": 2,
   "id": "54f37640-22d6-439d-a26b-dd71aa64c263",
   "metadata": {},
   "outputs": [
    {
     "ename": "IndentationError",
     "evalue": "expected an indented block after 'except' statement on line 5 (897056267.py, line 6)",
     "output_type": "error",
     "traceback": [
      "\u001b[1;36m  Cell \u001b[1;32mIn[2], line 6\u001b[1;36m\u001b[0m\n\u001b[1;33m    except OSError:\u001b[0m\n\u001b[1;37m    ^\u001b[0m\n\u001b[1;31mIndentationError\u001b[0m\u001b[1;31m:\u001b[0m expected an indented block after 'except' statement on line 5\n"
     ]
    }
   ],
   "source": [
    "try:\n",
    "    print(\"K\")\n",
    "except Exception as e:    \n",
    "        print(e)\n",
    "except IOError:   \n",
    "except OSError:\n",
    "except ValueError:"
   ]
  },
  {
   "cell_type": "code",
   "execution_count": 3,
   "id": "dc64426e-d333-4335-9c0c-bbd701261003",
   "metadata": {},
   "outputs": [],
   "source": [
    "import sqlite3"
   ]
  },
  {
   "cell_type": "code",
   "execution_count": 16,
   "id": "46b57974-829e-4131-bc19-cb8fd9273ae0",
   "metadata": {},
   "outputs": [],
   "source": [
    "class Employer:\n",
    "    def __init__(self, staffName, staffId, cv):\n",
    "        self.__staffName = staffName\n",
    "        self.__staffId = staffId\n",
    "        self.__cv = cv\n",
    "\n",
    "    def getCv(self):\n",
    "        return self.__cv\n",
    "    def setCv(self, cv):\n",
    "        self.__cv = cv\n",
    "        \n",
    "    def __str__(self):\n",
    "        if self.__cv == 100:\n",
    "            return \"This staff cv is \" + str(self.__cv)"
   ]
  },
  {
   "cell_type": "code",
   "execution_count": 17,
   "id": "3a0af715-5448-4527-9db2-42061a492754",
   "metadata": {},
   "outputs": [],
   "source": [
    "emp = Employer(\"Ola\", 123, 100)"
   ]
  },
  {
   "cell_type": "code",
   "execution_count": 18,
   "id": "21aecb85-c987-4f49-963f-a3ce0f086889",
   "metadata": {},
   "outputs": [
    {
     "data": {
      "text/plain": [
       "100"
      ]
     },
     "execution_count": 18,
     "metadata": {},
     "output_type": "execute_result"
    }
   ],
   "source": [
    "emp.getCv()"
   ]
  },
  {
   "cell_type": "code",
   "execution_count": 23,
   "id": "02b549ba-a830-43a0-8d3e-d019876141e4",
   "metadata": {},
   "outputs": [],
   "source": [
    "class Employee(Employer):\n",
    "    def __init__(self, department, *args):\n",
    "        super(Employee,self).__init__(*args)\n",
    "        self.department = department"
   ]
  },
  {
   "cell_type": "code",
   "execution_count": 24,
   "id": "d294ed27-7a47-4a49-aad6-07dca4b43ca4",
   "metadata": {},
   "outputs": [],
   "source": [
    "em = Employee(\"Ola\", 123, 100,\"Agric\")"
   ]
  },
  {
   "cell_type": "code",
   "execution_count": 25,
   "id": "403f7494-f0e7-4062-ad48-b2a06e7de7e2",
   "metadata": {},
   "outputs": [
    {
     "data": {
      "text/plain": [
       "'Agric'"
      ]
     },
     "execution_count": 25,
     "metadata": {},
     "output_type": "execute_result"
    }
   ],
   "source": [
    "em.getCv()"
   ]
  },
  {
   "cell_type": "code",
   "execution_count": 26,
   "id": "62e92c65-5531-4ede-8282-ad9b60f1d9ad",
   "metadata": {},
   "outputs": [
    {
     "data": {
      "text/plain": [
       "'Ola'"
      ]
     },
     "execution_count": 26,
     "metadata": {},
     "output_type": "execute_result"
    }
   ],
   "source": [
    "em.department"
   ]
  },
  {
   "cell_type": "code",
   "execution_count": null,
   "id": "e8738816-3ed3-4da5-9915-ea4b39c37bcb",
   "metadata": {},
   "outputs": [],
   "source": []
  }
 ],
 "metadata": {
  "kernelspec": {
   "display_name": "Python 3 (ipykernel)",
   "language": "python",
   "name": "python3"
  },
  "language_info": {
   "codemirror_mode": {
    "name": "ipython",
    "version": 3
   },
   "file_extension": ".py",
   "mimetype": "text/x-python",
   "name": "python",
   "nbconvert_exporter": "python",
   "pygments_lexer": "ipython3",
   "version": "3.13.1"
  }
 },
 "nbformat": 4,
 "nbformat_minor": 5
}
