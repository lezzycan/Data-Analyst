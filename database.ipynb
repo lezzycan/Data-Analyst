{
 "cells": [
  {
   "cell_type": "code",
   "execution_count": 1,
   "id": "20d2b2d9-b964-4321-ab3b-c20d1022b886",
   "metadata": {},
   "outputs": [],
   "source": [
    "import sqlite3"
   ]
  },
  {
   "cell_type": "code",
   "execution_count": 2,
   "id": "a1378fef-a9ac-4688-8eba-8d6b78419a50",
   "metadata": {},
   "outputs": [],
   "source": [
    "c = sqlite3.connect(\"xyz\")"
   ]
  },
  {
   "cell_type": "code",
   "execution_count": 3,
   "id": "c9aa595c-2ec5-4beb-be28-a9434535d513",
   "metadata": {},
   "outputs": [
    {
     "data": {
      "text/plain": [
       "<sqlite3.Cursor at 0x24fc8b13a40>"
      ]
     },
     "execution_count": 3,
     "metadata": {},
     "output_type": "execute_result"
    }
   ],
   "source": [
    "c.execute('drop table if exists abc')"
   ]
  },
  {
   "cell_type": "code",
   "execution_count": 4,
   "id": "adccba77-6152-4500-9ccf-61d6d66112c2",
   "metadata": {},
   "outputs": [
    {
     "data": {
      "text/plain": [
       "<sqlite3.Cursor at 0x24fc8b70140>"
      ]
     },
     "execution_count": 4,
     "metadata": {},
     "output_type": "execute_result"
    }
   ],
   "source": [
    "c.execute(\"create table abc(id int, name text, score int)\")"
   ]
  },
  {
   "cell_type": "code",
   "execution_count": 7,
   "id": "973fb5a5-3d99-452e-8c2c-7631f327a23c",
   "metadata": {},
   "outputs": [
    {
     "data": {
      "text/plain": [
       "<sqlite3.Cursor at 0x24fc8b5fcc0>"
      ]
     },
     "execution_count": 7,
     "metadata": {},
     "output_type": "execute_result"
    }
   ],
   "source": [
    "c.execute(\"insert into abc(id, name, score) values(1, 'ola', 100)\")\n",
    "c.execute(\"insert into abc(id, name, score) values(2, 'ola', 101)\")\n",
    "c.execute(\"insert into abc(id, name, score) values(3, 'ola', 102)\")\n",
    "c.execute(\"insert into abc(id, name, score) values(4, 'ola', 103)\")\n",
    "c.execute(\"insert into abc(id, name, score) values(5, 'ola', 104)\")\n",
    "c.execute(\"insert into abc(id, name, score) values(6, 'ola', 105)\")\n",
    "c.execute(\"insert into abc(id, name, score) values(7, 'ola', 106)\")\n",
    "c.execute(\"insert into abc(id, name, score) values(8, 'ola', 107)\")"
   ]
  },
  {
   "cell_type": "code",
   "execution_count": 8,
   "id": "4a32c120-72e5-48bc-9410-d7bce6d2c0fe",
   "metadata": {},
   "outputs": [],
   "source": [
    "c.commit()"
   ]
  },
  {
   "cell_type": "code",
   "execution_count": 11,
   "id": "6d182459-098f-476d-958b-6d3b7a2a1389",
   "metadata": {},
   "outputs": [
    {
     "name": "stdout",
     "output_type": "stream",
     "text": [
      "(1, 'ola', 100)\n",
      "(1, 'ola', 100)\n",
      "(2, 'ola', 101)\n",
      "(3, 'ola', 102)\n",
      "(4, 'ola', 103)\n",
      "(5, 'ola', 104)\n",
      "(6, 'ola', 105)\n",
      "(7, 'ola', 106)\n",
      "(8, 'ola', 107)\n"
     ]
    }
   ],
   "source": [
    "for i in c.execute(\"select * from abc \"):\n",
    "    print (i)"
   ]
  },
  {
   "cell_type": "code",
   "execution_count": 14,
   "id": "f9914d50-bf9a-47a2-872b-85e7b624ad0e",
   "metadata": {},
   "outputs": [
    {
     "name": "stdout",
     "output_type": "stream",
     "text": [
      "(8, 'ola', 107)\n",
      "(7, 'ola', 106)\n",
      "(6, 'ola', 105)\n",
      "(5, 'ola', 104)\n",
      "(4, 'ola', 103)\n",
      "(3, 'ola', 102)\n",
      "(2, 'ola', 101)\n",
      "(1, 'ola', 100)\n",
      "(1, 'ola', 100)\n"
     ]
    }
   ],
   "source": [
    "for i in c.execute(\"select * from abc order by id desc\"):\n",
    "                   print(i)"
   ]
  },
  {
   "cell_type": "code",
   "execution_count": 16,
   "id": "ee7e4363-180f-4db4-a8ef-c11009abf2c1",
   "metadata": {},
   "outputs": [
    {
     "name": "stdout",
     "output_type": "stream",
     "text": [
      "(6, 'ola', 105)\n"
     ]
    }
   ],
   "source": [
    "for i in c.execute(\"select * from abc where  score = 105\"):\n",
    "                   print(i)"
   ]
  },
  {
   "cell_type": "code",
   "execution_count": 17,
   "id": "4cbc321f-e485-4704-b961-e4ce21f5e76a",
   "metadata": {},
   "outputs": [
    {
     "name": "stdout",
     "output_type": "stream",
     "text": [
      "(4, 'ola')\n"
     ]
    }
   ],
   "source": [
    "for i in c.execute(\"select id, name from abc where id = 4 and name = 'ola' \"):\n",
    "                   print(i)"
   ]
  },
  {
   "cell_type": "code",
   "execution_count": 18,
   "id": "95ba003a-ac04-4ab1-9bea-c73106951571",
   "metadata": {},
   "outputs": [],
   "source": [
    "c = sqlite3.connect(\"uvw\")"
   ]
  },
  {
   "cell_type": "code",
   "execution_count": 19,
   "id": "cb7f94bb-60ea-4fd6-9b9d-2696875ccb01",
   "metadata": {},
   "outputs": [
    {
     "data": {
      "text/plain": [
       "<sqlite3.Cursor at 0x24fc961b940>"
      ]
     },
     "execution_count": 19,
     "metadata": {},
     "output_type": "execute_result"
    }
   ],
   "source": [
    "c.execute(\"drop table if exists def\")"
   ]
  },
  {
   "cell_type": "code",
   "execution_count": 22,
   "id": "7d43504b-9d1f-4583-9a2c-4e89e585aae8",
   "metadata": {},
   "outputs": [
    {
     "data": {
      "text/plain": [
       "<sqlite3.Cursor at 0x24fc9162dc0>"
      ]
     },
     "execution_count": 22,
     "metadata": {},
     "output_type": "execute_result"
    }
   ],
   "source": [
    "c.execute(\"create table def(id int, country text, age int)\")"
   ]
  },
  {
   "cell_type": "code",
   "execution_count": 25,
   "id": "57cd959a-9e5f-4efd-bfc9-714e0a39fb5e",
   "metadata": {},
   "outputs": [
    {
     "data": {
      "text/plain": [
       "<sqlite3.Cursor at 0x24fc94ae740>"
      ]
     },
     "execution_count": 25,
     "metadata": {},
     "output_type": "execute_result"
    }
   ],
   "source": [
    "c.execute(\"insert into def(id, country, age) values(1, 'United Kingdom', 27)\")\n",
    "c.execute(\"insert into def(id, country, age) values(1, 'United State', 28)\")\n",
    "c.execute(\"insert into def(id, country, age) values(1, 'Canada', 37)\")\n",
    "c.execute(\"insert into def(id, country, age) values(1, 'China', 47)\")"
   ]
  },
  {
   "cell_type": "code",
   "execution_count": 27,
   "id": "a7d6ab81-5de6-496a-b9c0-d1718109432e",
   "metadata": {},
   "outputs": [],
   "source": [
    "c.commit()"
   ]
  },
  {
   "cell_type": "code",
   "execution_count": null,
   "id": "8764c066-2578-4860-9e13-55c0b810cfc7",
   "metadata": {},
   "outputs": [],
   "source": []
  },
  {
   "cell_type": "code",
   "execution_count": null,
   "id": "e5b75e53-a259-4098-ab0f-9f1a6771f604",
   "metadata": {},
   "outputs": [],
   "source": []
  },
  {
   "cell_type": "code",
   "execution_count": null,
   "id": "a5fbdaed-6732-48b4-8766-eda4b694c922",
   "metadata": {},
   "outputs": [],
   "source": []
  }
 ],
 "metadata": {
  "kernelspec": {
   "display_name": "Python 3 (ipykernel)",
   "language": "python",
   "name": "python3"
  },
  "language_info": {
   "codemirror_mode": {
    "name": "ipython",
    "version": 3
   },
   "file_extension": ".py",
   "mimetype": "text/x-python",
   "name": "python",
   "nbconvert_exporter": "python",
   "pygments_lexer": "ipython3",
   "version": "3.13.1"
  }
 },
 "nbformat": 4,
 "nbformat_minor": 5
}
