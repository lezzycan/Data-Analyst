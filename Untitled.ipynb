{
 "cells": [
  {
   "cell_type": "code",
   "execution_count": 1,
   "id": "e1aea0e2-3e42-4cb6-867f-d66dbd360dc1",
   "metadata": {},
   "outputs": [],
   "source": [
    "import pymongo"
   ]
  },
  {
   "cell_type": "code",
   "execution_count": 4,
   "id": "d9963b72-5f67-4a39-801e-2eb594b48ea8",
   "metadata": {},
   "outputs": [],
   "source": [
    "dbConn = pymongo.MongoClient(\"mongodb://localhost:27017/\")"
   ]
  },
  {
   "cell_type": "code",
   "execution_count": 6,
   "id": "1cce70e0-7afc-4f29-8bef-998c4fb37d99",
   "metadata": {},
   "outputs": [],
   "source": [
    "dbname = 'demoDB'\n",
    "db = dbConn[dbname]"
   ]
  },
  {
   "cell_type": "code",
   "execution_count": 7,
   "id": "204e8431-e848-4ba1-b5d2-9b9ba0d652dc",
   "metadata": {},
   "outputs": [
    {
     "name": "stdout",
     "output_type": "stream",
     "text": [
      "['admin', 'config', 'local']\n"
     ]
    }
   ],
   "source": [
    "print(dbConn.list_database_names())"
   ]
  },
  {
   "cell_type": "code",
   "execution_count": 9,
   "id": "b16c7bdb-3dab-4155-a137-102ebeff3cfe",
   "metadata": {},
   "outputs": [
    {
     "name": "stdout",
     "output_type": "stream",
     "text": [
      "['admin', 'config', 'local']\n",
      "This Database doesn't exist\n"
     ]
    }
   ],
   "source": [
    "dblist = dbConn.list_database_names()\n",
    "print(dblist)\n",
    "db_name = 'demoDB'\n",
    "\n",
    "if db_name in dblist:\n",
    "    print('This Database exist')\n",
    "else:\n",
    "    print('This Database doesn\\'t exist') "
   ]
  },
  {
   "cell_type": "code",
   "execution_count": 10,
   "id": "4d48bb73-7d19-4563-a2ff-54dd97c5df36",
   "metadata": {},
   "outputs": [],
   "source": [
    "collection_name = 'mongo_demo'\n",
    "collection = db[collection_name]"
   ]
  },
  {
   "cell_type": "code",
   "execution_count": 11,
   "id": "09a16ce2-6dfc-48d6-b9d7-03914e0fdd0a",
   "metadata": {},
   "outputs": [
    {
     "name": "stdout",
     "output_type": "stream",
     "text": [
      "The collection doesnt exist\n"
     ]
    }
   ],
   "source": [
    "if collection_name in db.list_collection_names():\n",
    "    print('The collection exist')\n",
    "else:\n",
    "    print(\"The collection doesnt exist\")"
   ]
  },
  {
   "cell_type": "code",
   "execution_count": null,
   "id": "91972284-7e9e-4fb7-9ca2-dabbcabd7a4c",
   "metadata": {},
   "outputs": [],
   "source": []
  }
 ],
 "metadata": {
  "kernelspec": {
   "display_name": "Python 3 (ipykernel)",
   "language": "python",
   "name": "python3"
  },
  "language_info": {
   "codemirror_mode": {
    "name": "ipython",
    "version": 3
   },
   "file_extension": ".py",
   "mimetype": "text/x-python",
   "name": "python",
   "nbconvert_exporter": "python",
   "pygments_lexer": "ipython3",
   "version": "3.13.1"
  }
 },
 "nbformat": 4,
 "nbformat_minor": 5
}
