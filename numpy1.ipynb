{
 "cells": [
  {
   "cell_type": "code",
   "execution_count": 64,
   "id": "3f139c90-21aa-44cd-99f4-86136029704d",
   "metadata": {},
   "outputs": [],
   "source": [
    "import numpy as np"
   ]
  },
  {
   "cell_type": "code",
   "execution_count": 2,
   "id": "e577e9fc-4bac-459c-8ca1-8091b31c3e1c",
   "metadata": {},
   "outputs": [
    {
     "data": {
      "text/plain": [
       "numpy.ndarray"
      ]
     },
     "execution_count": 2,
     "metadata": {},
     "output_type": "execute_result"
    }
   ],
   "source": [
    "type(np.array(['ola', 2,3]))"
   ]
  },
  {
   "cell_type": "code",
   "execution_count": 4,
   "id": "419c85d1-6f13-4d70-8746-85da885cbbb0",
   "metadata": {},
   "outputs": [
    {
     "data": {
      "text/plain": [
       "array([1., 2., 3.])"
      ]
     },
     "execution_count": 4,
     "metadata": {},
     "output_type": "execute_result"
    }
   ],
   "source": [
    "np.array([1,2,3.0])"
   ]
  },
  {
   "cell_type": "code",
   "execution_count": 5,
   "id": "e55a8b3a-01fd-49db-83fe-a9ce32fe1e4b",
   "metadata": {},
   "outputs": [],
   "source": [
    "# two dimensional array"
   ]
  },
  {
   "cell_type": "code",
   "execution_count": 7,
   "id": "1ddf9ee4-7341-4498-b725-8d515ed62d66",
   "metadata": {},
   "outputs": [
    {
     "data": {
      "text/plain": [
       "array([[1, 2],\n",
       "       [3, 4]])"
      ]
     },
     "execution_count": 7,
     "metadata": {},
     "output_type": "execute_result"
    }
   ],
   "source": [
    "np.array([[1,2],[3,4]])"
   ]
  },
  {
   "cell_type": "code",
   "execution_count": 8,
   "id": "9f0f6f4b-0171-47e3-96b2-80dc4b3e1e59",
   "metadata": {},
   "outputs": [
    {
     "data": {
      "text/plain": [
       "array([1.+0.j, 2.+0.j, 3.+0.j])"
      ]
     },
     "execution_count": 8,
     "metadata": {},
     "output_type": "execute_result"
    }
   ],
   "source": [
    "np.array([1,2,3], dtype = complex)"
   ]
  },
  {
   "cell_type": "code",
   "execution_count": 4,
   "id": "a71b5750-cb1e-40a2-9786-608872ac8979",
   "metadata": {},
   "outputs": [
    {
     "data": {
      "text/plain": [
       "array([(1, 2), (3, 4)], dtype=[('a', '<i2'), ('b', '<i8')])"
      ]
     },
     "execution_count": 4,
     "metadata": {},
     "output_type": "execute_result"
    }
   ],
   "source": [
    "x = np.array([(1,2),(3,4)], dtype = [('a', '<i2'),('b', '<i8')])\n",
    "x"
   ]
  },
  {
   "cell_type": "code",
   "execution_count": 5,
   "id": "d26359d4-877b-4691-95d5-04213e9c3e35",
   "metadata": {},
   "outputs": [
    {
     "data": {
      "text/plain": [
       "numpy.int16"
      ]
     },
     "execution_count": 5,
     "metadata": {},
     "output_type": "execute_result"
    }
   ],
   "source": [
    "type(x[1][0])"
   ]
  },
  {
   "cell_type": "code",
   "execution_count": 8,
   "id": "9d4bafe6-6f92-41a4-8e1f-1970e362bd62",
   "metadata": {},
   "outputs": [
    {
     "data": {
      "text/plain": [
       "matrix([[1, 2],\n",
       "        [4, 7]])"
      ]
     },
     "execution_count": 8,
     "metadata": {},
     "output_type": "execute_result"
    }
   ],
   "source": [
    "np.asmatrix(np.array([[1,2],[4,7]]))"
   ]
  },
  {
   "cell_type": "code",
   "execution_count": 9,
   "id": "9f071f72-de58-45c2-9b1f-c89aa6bad871",
   "metadata": {},
   "outputs": [
    {
     "data": {
      "text/plain": [
       "array([1, 2])"
      ]
     },
     "execution_count": 9,
     "metadata": {},
     "output_type": "execute_result"
    }
   ],
   "source": [
    "a = [1,2]\n",
    "np.array(a)"
   ]
  },
  {
   "cell_type": "code",
   "execution_count": 10,
   "id": "1b068dbf-3edc-46d5-ba47-4a7f0491957c",
   "metadata": {},
   "outputs": [
    {
     "data": {
      "text/plain": [
       "list"
      ]
     },
     "execution_count": 10,
     "metadata": {},
     "output_type": "execute_result"
    }
   ],
   "source": [
    "type(a)"
   ]
  },
  {
   "cell_type": "code",
   "execution_count": 11,
   "id": "d6e28397-a23b-4294-b7bc-c73b711727a3",
   "metadata": {},
   "outputs": [
    {
     "data": {
      "text/plain": [
       "array([1, 2])"
      ]
     },
     "execution_count": 11,
     "metadata": {},
     "output_type": "execute_result"
    }
   ],
   "source": [
    "np.asarray(a)"
   ]
  },
  {
   "cell_type": "code",
   "execution_count": 12,
   "id": "9790c540-9b62-4183-a940-b5fffe9c39e1",
   "metadata": {},
   "outputs": [
    {
     "data": {
      "text/plain": [
       "list"
      ]
     },
     "execution_count": 12,
     "metadata": {},
     "output_type": "execute_result"
    }
   ],
   "source": [
    "type(a)"
   ]
  },
  {
   "cell_type": "code",
   "execution_count": 3,
   "id": "ddd03c6e-41e8-4019-81c0-686e215e43bb",
   "metadata": {},
   "outputs": [
    {
     "data": {
      "text/plain": [
       "array([[[0, 0, 0],\n",
       "        [0, 0, 0],\n",
       "        [0, 0, 0]],\n",
       "\n",
       "       [[0, 0, 0],\n",
       "        [0, 1, 2],\n",
       "        [0, 2, 4]],\n",
       "\n",
       "       [[0, 0, 0],\n",
       "        [0, 2, 4],\n",
       "        [0, 4, 8]]])"
      ]
     },
     "execution_count": 3,
     "metadata": {},
     "output_type": "execute_result"
    }
   ],
   "source": [
    "np.fromfunction(lambda i, j, k : i * j * k, (3, 3, 3), dtype = int)"
   ]
  },
  {
   "cell_type": "code",
   "execution_count": 7,
   "id": "c840d2c2-33e4-4165-b425-426d7af1aea1",
   "metadata": {},
   "outputs": [
    {
     "data": {
      "text/plain": [
       "<generator object <genexpr> at 0x0000027A0F007780>"
      ]
     },
     "execution_count": 7,
     "metadata": {},
     "output_type": "execute_result"
    }
   ],
   "source": [
    "iterable = (x*x for x in range(5))\n",
    "iterable"
   ]
  },
  {
   "cell_type": "code",
   "execution_count": 8,
   "id": "bfd5bf68-1a80-4cb8-a97d-49a896e19b9f",
   "metadata": {},
   "outputs": [
    {
     "data": {
      "text/plain": [
       "array([ 0.,  1.,  4.,  9., 16.])"
      ]
     },
     "execution_count": 8,
     "metadata": {},
     "output_type": "execute_result"
    }
   ],
   "source": [
    "np.fromiter(iterable, float)"
   ]
  },
  {
   "cell_type": "code",
   "execution_count": 9,
   "id": "ace6bb0d-dadf-46f6-bcb9-9045b4c08dab",
   "metadata": {},
   "outputs": [
    {
     "data": {
      "text/plain": [
       "array([234., 234.])"
      ]
     },
     "execution_count": 9,
     "metadata": {},
     "output_type": "execute_result"
    }
   ],
   "source": [
    "a = np.fromstring('234 234', sep = ' ')\n",
    "a"
   ]
  },
  {
   "cell_type": "code",
   "execution_count": 11,
   "id": "9edf7865-f52c-4799-bfac-64fa4f64a3d7",
   "metadata": {},
   "outputs": [
    {
     "data": {
      "text/plain": [
       "array([1, 2])"
      ]
     },
     "execution_count": 11,
     "metadata": {},
     "output_type": "execute_result"
    }
   ],
   "source": [
    "np.fromstring('1, 2', dtype = int, sep = ', ')"
   ]
  },
  {
   "cell_type": "code",
   "execution_count": 12,
   "id": "6271742b-5b35-40ae-a88e-d9e05d7725b0",
   "metadata": {},
   "outputs": [],
   "source": [
    "x1 = np.array([1,2,3,4])"
   ]
  },
  {
   "cell_type": "code",
   "execution_count": 13,
   "id": "fc72f2fb-e2d5-4e47-bafd-2d34dbc209cc",
   "metadata": {},
   "outputs": [],
   "source": [
    "x2 = np.array(['a', 'dd', 'xyz', '12'])\n",
    "x3 = np.array([1.1, 2,3,4])\n",
    "x4 = np.array([1.1,2,3,4])"
   ]
  },
  {
   "cell_type": "code",
   "execution_count": 15,
   "id": "d1131419-e9ac-4831-9f4a-56283f44dc89",
   "metadata": {},
   "outputs": [
    {
     "data": {
      "text/plain": [
       "rec.array([(1, 'a', 1.1, 1.1), (2, 'dd', 2. , 2. ), (3, 'xyz', 3. , 3. ),\n",
       "           (4, '12', 4. , 4. )],\n",
       "          dtype=[('f0', '<i8'), ('f1', '<U3'), ('f2', '<f8'), ('f3', '<f8')])"
      ]
     },
     "execution_count": 15,
     "metadata": {},
     "output_type": "execute_result"
    }
   ],
   "source": [
    "r = np._core.records.fromarrays([x1, x2, x3, x4])\n",
    "r"
   ]
  },
  {
   "cell_type": "code",
   "execution_count": 16,
   "id": "1e0c7e1a-b027-4c50-9044-b6cb17bfcd23",
   "metadata": {},
   "outputs": [
    {
     "data": {
      "text/plain": [
       "[4,\n",
       " 6,\n",
       " 8,\n",
       " 10,\n",
       " 12,\n",
       " 14,\n",
       " 16,\n",
       " 18,\n",
       " 20,\n",
       " 22,\n",
       " 24,\n",
       " 26,\n",
       " 28,\n",
       " 30,\n",
       " 32,\n",
       " 34,\n",
       " 36,\n",
       " 38,\n",
       " 40,\n",
       " 42,\n",
       " 44,\n",
       " 46,\n",
       " 48]"
      ]
     },
     "execution_count": 16,
     "metadata": {},
     "output_type": "execute_result"
    }
   ],
   "source": [
    "list(range(4,50,2))"
   ]
  },
  {
   "cell_type": "code",
   "execution_count": 17,
   "id": "cf720e9c-f2f3-4059-ab9c-bb89a807a6de",
   "metadata": {},
   "outputs": [
    {
     "data": {
      "text/plain": [
       "array([ 5. ,  7.3,  9.6, 11.9, 14.2])"
      ]
     },
     "execution_count": 17,
     "metadata": {},
     "output_type": "execute_result"
    }
   ],
   "source": [
    "np.arange(5,16,2.3)   #arange is the same as range in python, the diff is range doesn't generate floating number"
   ]
  },
  {
   "cell_type": "code",
   "execution_count": 18,
   "id": "52a1501d-dffa-4537-a825-64d64482c586",
   "metadata": {},
   "outputs": [
    {
     "name": "stdout",
     "output_type": "stream",
     "text": [
      "[1.         1.08163265 1.16326531 1.24489796 1.32653061 1.40816327\n",
      " 1.48979592 1.57142857 1.65306122 1.73469388 1.81632653 1.89795918\n",
      " 1.97959184 2.06122449 2.14285714 2.2244898  2.30612245 2.3877551\n",
      " 2.46938776 2.55102041 2.63265306 2.71428571 2.79591837 2.87755102\n",
      " 2.95918367 3.04081633 3.12244898 3.20408163 3.28571429 3.36734694\n",
      " 3.44897959 3.53061224 3.6122449  3.69387755 3.7755102  3.85714286\n",
      " 3.93877551 4.02040816 4.10204082 4.18367347 4.26530612 4.34693878\n",
      " 4.42857143 4.51020408 4.59183673 4.67346939 4.75510204 4.83673469\n",
      " 4.91836735 5.        ]\n"
     ]
    }
   ],
   "source": [
    "print((np.linspace(1,5,50))) # the 50 is not step it is the number of data it will generate between 1 and 5"
   ]
  },
  {
   "cell_type": "code",
   "execution_count": 20,
   "id": "37e83a38-a28a-4d9b-bddd-c1af2c655389",
   "metadata": {},
   "outputs": [
    {
     "name": "stdout",
     "output_type": "stream",
     "text": [
      "[[[0. 0.]\n",
      "  [0. 0.]\n",
      "  [0. 0.]\n",
      "  [0. 0.]]\n",
      "\n",
      " [[0. 0.]\n",
      "  [0. 0.]\n",
      "  [0. 0.]\n",
      "  [0. 0.]]\n",
      "\n",
      " [[0. 0.]\n",
      "  [0. 0.]\n",
      "  [0. 0.]\n",
      "  [0. 0.]]]\n"
     ]
    }
   ],
   "source": [
    "print(np.zeros((3,4,2)))"
   ]
  },
  {
   "cell_type": "code",
   "execution_count": 22,
   "id": "e56083da-57e3-4c8b-b4c1-a084de2feaa7",
   "metadata": {},
   "outputs": [
    {
     "data": {
      "text/plain": [
       "array([[10., 10., 10., 10., 10.],\n",
       "       [10., 10., 10., 10., 10.],\n",
       "       [10., 10., 10., 10., 10.]])"
      ]
     },
     "execution_count": 22,
     "metadata": {},
     "output_type": "execute_result"
    }
   ],
   "source": [
    "np.ones((3,5)) * 10"
   ]
  },
  {
   "cell_type": "code",
   "execution_count": 23,
   "id": "f8d23c25-78b1-4fc4-9e85-552da3f3682f",
   "metadata": {},
   "outputs": [
    {
     "data": {
      "text/plain": [
       "array([[10., 10., 10., 10., 10.],\n",
       "       [10., 10., 10., 10., 10.],\n",
       "       [10., 10., 10., 10., 10.]])"
      ]
     },
     "execution_count": 23,
     "metadata": {},
     "output_type": "execute_result"
    }
   ],
   "source": [
    "np.empty((3,5))"
   ]
  },
  {
   "cell_type": "code",
   "execution_count": 24,
   "id": "0e561f86-afd8-4a4f-be04-32ba0b730526",
   "metadata": {},
   "outputs": [
    {
     "data": {
      "text/plain": [
       "array([[10., 10., 10., 10., 10.],\n",
       "       [10., 10., 10., 10., 10.],\n",
       "       [10., 10., 10., 10., 10.]])"
      ]
     },
     "execution_count": 24,
     "metadata": {},
     "output_type": "execute_result"
    }
   ],
   "source": [
    "np.empty((3,5))"
   ]
  },
  {
   "cell_type": "code",
   "execution_count": 25,
   "id": "5ca3f33f-2b20-4d7d-bfc5-3f7c10341b8e",
   "metadata": {},
   "outputs": [
    {
     "name": "stdout",
     "output_type": "stream",
     "text": [
      "[[1. 0. 0. 0.]\n",
      " [0. 1. 0. 0.]\n",
      " [0. 0. 1. 0.]\n",
      " [0. 0. 0. 1.]]\n"
     ]
    }
   ],
   "source": [
    "mat1 = np.eye(4)\n",
    "print(mat1)"
   ]
  },
  {
   "cell_type": "code",
   "execution_count": 26,
   "id": "caba7537-e924-48bf-b6eb-c01c6a4c3c5c",
   "metadata": {},
   "outputs": [
    {
     "data": {
      "text/plain": [
       "array([ 100.        ,  215.443469  ,  464.15888336, 1000.        ])"
      ]
     },
     "execution_count": 26,
     "metadata": {},
     "output_type": "execute_result"
    }
   ],
   "source": [
    "np.logspace(2.0, 3.0, num=4, base = 10)"
   ]
  },
  {
   "cell_type": "code",
   "execution_count": 27,
   "id": "62092203-4c91-46c2-8d52-7c0dcdc0163f",
   "metadata": {},
   "outputs": [
    {
     "data": {
      "text/plain": [
       "(array([2.  , 2.25, 2.5 , 2.75, 3.  ]), np.float64(0.25))"
      ]
     },
     "execution_count": 27,
     "metadata": {},
     "output_type": "execute_result"
    }
   ],
   "source": [
    "np.linspace(2.0, 3.0, num = 5, retstep =  True)"
   ]
  },
  {
   "cell_type": "code",
   "execution_count": 29,
   "id": "13862353-9e64-4653-9425-e40017cfba8e",
   "metadata": {},
   "outputs": [
    {
     "data": {
      "text/plain": [
       "array([[[0., 0., 0., 0., 0., 0., 0., 0.],\n",
       "        [0., 0., 0., 0., 0., 0., 0., 0.],\n",
       "        [0., 0., 0., 0., 0., 0., 0., 0.],\n",
       "        [0., 0., 0., 0., 0., 0., 0., 0.]],\n",
       "\n",
       "       [[0., 0., 0., 0., 0., 0., 0., 0.],\n",
       "        [0., 0., 0., 0., 0., 0., 0., 0.],\n",
       "        [0., 0., 0., 0., 0., 0., 0., 0.],\n",
       "        [0., 0., 0., 0., 0., 0., 0., 0.]],\n",
       "\n",
       "       [[0., 0., 0., 0., 0., 0., 0., 0.],\n",
       "        [0., 0., 0., 0., 0., 0., 0., 0.],\n",
       "        [0., 0., 0., 0., 0., 0., 0., 0.],\n",
       "        [0., 0., 0., 0., 0., 0., 0., 0.]]])"
      ]
     },
     "execution_count": 29,
     "metadata": {},
     "output_type": "execute_result"
    }
   ],
   "source": [
    " a = np.zeros((3,4,8))\n",
    "a"
   ]
  },
  {
   "cell_type": "code",
   "execution_count": 31,
   "id": "f053ab44-0f93-4eff-aafe-5fed1e85274b",
   "metadata": {},
   "outputs": [
    {
     "data": {
      "text/plain": [
       "array([[[10., 10., 10., 10., 10., 10., 10., 10.],\n",
       "        [10., 10., 10., 10., 10., 10., 10., 10.],\n",
       "        [10., 10., 10., 10., 10., 10., 10., 10.],\n",
       "        [10., 10., 10., 10., 10., 10., 10., 10.]],\n",
       "\n",
       "       [[10., 10., 10., 10., 10., 10., 10., 10.],\n",
       "        [10., 10., 10., 10., 10., 10., 10., 10.],\n",
       "        [10., 10., 10., 10., 10., 10., 10., 10.],\n",
       "        [10., 10., 10., 10., 10., 10., 10., 10.]],\n",
       "\n",
       "       [[10., 10., 10., 10., 10., 10., 10., 10.],\n",
       "        [10., 10., 10., 10., 10., 10., 10., 10.],\n",
       "        [10., 10., 10., 10., 10., 10., 10., 10.],\n",
       "        [10., 10., 10., 10., 10., 10., 10., 10.]]])"
      ]
     },
     "execution_count": 31,
     "metadata": {},
     "output_type": "execute_result"
    }
   ],
   "source": [
    "(a + 5) * 2"
   ]
  },
  {
   "cell_type": "code",
   "execution_count": 32,
   "id": "f7f64ee4-a595-4bd9-8ffe-536c6b52b944",
   "metadata": {},
   "outputs": [
    {
     "data": {
      "text/plain": [
       "array([4.        , 4.05063291, 4.10126582, 4.15189873, 4.20253165,\n",
       "       4.25316456, 4.30379747, 4.35443038, 4.40506329, 4.4556962 ,\n",
       "       4.50632911, 4.55696203, 4.60759494, 4.65822785, 4.70886076,\n",
       "       4.75949367, 4.81012658, 4.86075949, 4.91139241, 4.96202532,\n",
       "       5.01265823, 5.06329114, 5.11392405, 5.16455696, 5.21518987,\n",
       "       5.26582278, 5.3164557 , 5.36708861, 5.41772152, 5.46835443,\n",
       "       5.51898734, 5.56962025, 5.62025316, 5.67088608, 5.72151899,\n",
       "       5.7721519 , 5.82278481, 5.87341772, 5.92405063, 5.97468354,\n",
       "       6.02531646, 6.07594937, 6.12658228, 6.17721519, 6.2278481 ,\n",
       "       6.27848101, 6.32911392, 6.37974684, 6.43037975, 6.48101266,\n",
       "       6.53164557, 6.58227848, 6.63291139, 6.6835443 , 6.73417722,\n",
       "       6.78481013, 6.83544304, 6.88607595, 6.93670886, 6.98734177,\n",
       "       7.03797468, 7.08860759, 7.13924051, 7.18987342, 7.24050633,\n",
       "       7.29113924, 7.34177215, 7.39240506, 7.44303797, 7.49367089,\n",
       "       7.5443038 , 7.59493671, 7.64556962, 7.69620253, 7.74683544,\n",
       "       7.79746835, 7.84810127, 7.89873418, 7.94936709, 8.        ])"
      ]
     },
     "execution_count": 32,
     "metadata": {},
     "output_type": "execute_result"
    }
   ],
   "source": [
    "b = np.linspace(4,8,80)\n",
    "b"
   ]
  },
  {
   "cell_type": "code",
   "execution_count": 33,
   "id": "ed1ff525-3f2e-4f6e-a115-cbd13369a474",
   "metadata": {},
   "outputs": [
    {
     "data": {
      "text/plain": [
       "matrix([[1, 2, 3, 4, 5]])"
      ]
     },
     "execution_count": 33,
     "metadata": {},
     "output_type": "execute_result"
    }
   ],
   "source": [
    "c = [1,2,3,4,5]\n",
    "np.matrix(c)"
   ]
  },
  {
   "cell_type": "code",
   "execution_count": 44,
   "id": "de78d919-c44d-4ce7-880e-b090eeb4907f",
   "metadata": {},
   "outputs": [
    {
     "name": "stdout",
     "output_type": "stream",
     "text": [
      "[[[1. 1.]\n",
      "  [1. 1.]\n",
      "  [1. 1.]\n",
      "  [1. 1.]\n",
      "  [1. 1.]]\n",
      "\n",
      " [[1. 1.]\n",
      "  [1. 1.]\n",
      "  [1. 1.]\n",
      "  [1. 1.]\n",
      "  [1. 1.]]\n",
      "\n",
      " [[1. 1.]\n",
      "  [1. 1.]\n",
      "  [1. 1.]\n",
      "  [1. 1.]\n",
      "  [1. 1.]]\n",
      "\n",
      " [[1. 1.]\n",
      "  [1. 1.]\n",
      "  [1. 1.]\n",
      "  [1. 1.]\n",
      "  [1. 1.]]]\n",
      "(4, 5, 2) float64 3\n"
     ]
    }
   ],
   "source": [
    "d = np.ones((4,5,2))\n",
    "print(d)\n",
    "print(d.shape, d.dtype, d.ndim)"
   ]
  },
  {
   "cell_type": "code",
   "execution_count": 48,
   "id": "1a025f36-e1d8-485c-9018-b989bc544bb0",
   "metadata": {},
   "outputs": [
    {
     "name": "stdout",
     "output_type": "stream",
     "text": [
      "[[[1. 1. 1.]\n",
      "  [1. 1. 1.]\n",
      "  [1. 1. 1.]]\n",
      "\n",
      " [[1. 1. 1.]\n",
      "  [1. 1. 1.]\n",
      "  [1. 1. 1.]]\n",
      "\n",
      " [[1. 1. 1.]\n",
      "  [1. 1. 1.]\n",
      "  [1. 1. 1.]]]\n",
      "[[[6. 6. 6.]\n",
      "  [6. 6. 6.]\n",
      "  [6. 6. 6.]]\n",
      "\n",
      " [[6. 6. 6.]\n",
      "  [6. 6. 6.]\n",
      "  [6. 6. 6.]]\n",
      "\n",
      " [[6. 6. 6.]\n",
      "  [6. 6. 6.]\n",
      "  [6. 6. 6.]]]\n",
      "[[[6. 6. 6.]\n",
      "  [6. 6. 6.]\n",
      "  [6. 6. 6.]]\n",
      "\n",
      " [[6. 6. 6.]\n",
      "  [6. 6. 6.]\n",
      "  [6. 6. 6.]]\n",
      "\n",
      " [[6. 6. 6.]\n",
      "  [6. 6. 6.]\n",
      "  [6. 6. 6.]]]\n"
     ]
    }
   ],
   "source": [
    "xa = np.ones((3,3,3))\n",
    "xb = np.ones((3,3,3)) + 5\n",
    "print(xa)\n",
    "print(xb)\n",
    "print(xa * xb)"
   ]
  },
  {
   "cell_type": "code",
   "execution_count": 55,
   "id": "14657900-c7aa-4c1b-81b5-943ea181098e",
   "metadata": {},
   "outputs": [],
   "source": [
    "x = np.arange(16).reshape((-1,4))\n"
   ]
  },
  {
   "cell_type": "code",
   "execution_count": 56,
   "id": "f6eb385f-c9e9-4ff5-9eb9-8f5b52163e47",
   "metadata": {},
   "outputs": [
    {
     "data": {
      "text/plain": [
       "array([[ 0,  1,  2,  3],\n",
       "       [ 4,  5,  6,  7],\n",
       "       [ 8,  9, 10, 11],\n",
       "       [12, 13, 14, 15]])"
      ]
     },
     "execution_count": 56,
     "metadata": {},
     "output_type": "execute_result"
    }
   ],
   "source": [
    "x"
   ]
  },
  {
   "cell_type": "code",
   "execution_count": 57,
   "id": "4767b4fa-ea2e-43f8-bef8-f7d946083ef4",
   "metadata": {},
   "outputs": [
    {
     "data": {
      "text/plain": [
       "array([ 0,  5, 10, 15])"
      ]
     },
     "execution_count": 57,
     "metadata": {},
     "output_type": "execute_result"
    }
   ],
   "source": [
    "np.diag(x)"
   ]
  },
  {
   "cell_type": "code",
   "execution_count": 58,
   "id": "accc0974-1fee-400a-9db3-b3d68a5fa99b",
   "metadata": {},
   "outputs": [
    {
     "data": {
      "text/plain": [
       "array([2, 7])"
      ]
     },
     "execution_count": 58,
     "metadata": {},
     "output_type": "execute_result"
    }
   ],
   "source": [
    "np.diag(x, k =2)"
   ]
  },
  {
   "cell_type": "code",
   "execution_count": 59,
   "id": "a98a5363-f2fc-4b1d-a414-81deb3ec30ee",
   "metadata": {},
   "outputs": [
    {
     "data": {
      "text/plain": [
       "array([[1, 0, 0, 0],\n",
       "       [0, 2, 0, 0],\n",
       "       [0, 0, 3, 0],\n",
       "       [0, 0, 0, 4]])"
      ]
     },
     "execution_count": 59,
     "metadata": {},
     "output_type": "execute_result"
    }
   ],
   "source": [
    " np.diagflat([[1,2],[3,4]])"
   ]
  },
  {
   "cell_type": "code",
   "execution_count": 61,
   "id": "d9818450-11e9-4c2f-b2a5-0c7ef124d2c4",
   "metadata": {},
   "outputs": [
    {
     "data": {
      "text/plain": [
       "array([[1, 1, 0, 0, 0],\n",
       "       [1, 1, 1, 0, 0],\n",
       "       [1, 1, 1, 1, 0]])"
      ]
     },
     "execution_count": 61,
     "metadata": {},
     "output_type": "execute_result"
    }
   ],
   "source": [
    "np.tri(3,5,1, dtype = int)"
   ]
  },
  {
   "cell_type": "code",
   "execution_count": 62,
   "id": "16b45208-5c98-43b1-94d2-7c03ce433885",
   "metadata": {},
   "outputs": [
    {
     "data": {
      "text/plain": [
       "array([[1, 0, 0],\n",
       "       [4, 5, 0],\n",
       "       [7, 8, 9]])"
      ]
     },
     "execution_count": 62,
     "metadata": {},
     "output_type": "execute_result"
    }
   ],
   "source": [
    "np.tril([[1,2,3],[4,5,6],[7,8,9]],0)"
   ]
  },
  {
   "cell_type": "code",
   "execution_count": 67,
   "id": "0146973e-cc99-42a8-95f9-abbc5e6d10dd",
   "metadata": {},
   "outputs": [
    {
     "name": "stdout",
     "output_type": "stream",
     "text": [
      "[[[0.73702161 0.43726545 0.97972903 0.93298956 0.30096906 0.77972891\n",
      "   0.40207047 0.58941205]\n",
      "  [0.75895321 0.34504207 0.77910962 0.55774425 0.28826195 0.57942971\n",
      "   0.15794107 0.55776845]\n",
      "  [0.60803377 0.76042515 0.12791524 0.4096419  0.7775383  0.56110275\n",
      "   0.28496039 0.55738763]]\n",
      "\n",
      " [[0.24755763 0.65660469 0.02533901 0.88099256 0.3902258  0.46149624\n",
      "   0.94396216 0.67686425]\n",
      "  [0.21476446 0.87301401 0.66441929 0.83082807 0.76489457 0.66136557\n",
      "   0.70604989 0.76185943]\n",
      "  [0.33198578 0.88131563 0.57838923 0.55755001 0.87282882 0.43504729\n",
      "   0.11840041 0.94491824]]]\n"
     ]
    }
   ],
   "source": [
    "print(np.random.rand(2,3, 8))"
   ]
  },
  {
   "cell_type": "code",
   "execution_count": 70,
   "id": "6a9395fa-1772-4743-b222-628e1f670092",
   "metadata": {},
   "outputs": [
    {
     "name": "stdout",
     "output_type": "stream",
     "text": [
      "[[[34 10 69 68  8]\n",
      "  [81 39 93 87 36]\n",
      "  [ 5 21 79 21 90]\n",
      "  [13 80 21 10 80]]\n",
      "\n",
      " [[15 17 15 42 72]\n",
      "  [55 76 92 57 83]\n",
      "  [ 2  7 39 94 14]\n",
      "  [70  1 32 23 32]]\n",
      "\n",
      " [[72 20 34 60 67]\n",
      "  [81 30 75 23 40]\n",
      "  [13  5 84 99 65]\n",
      "  [11 21  2 48 27]]\n",
      "\n",
      " [[91 30 87 49 83]\n",
      "  [ 8 23 39  3 76]\n",
      "  [66  7 69 60 39]\n",
      "  [35 80 15 52 93]]]\n"
     ]
    }
   ],
   "source": [
    "print(np.random.randint(1,100,(4,4,5)))"
   ]
  },
  {
   "cell_type": "code",
   "execution_count": 69,
   "id": "d755c83b-d9ea-46f7-ad6c-a3708ed10a23",
   "metadata": {},
   "outputs": [
    {
     "name": "stdout",
     "output_type": "stream",
     "text": [
      "[1 5 1 3 1 6 4 6 3 4 4 1 1 6 1 1 6 4 2 5]\n"
     ]
    }
   ],
   "source": [
    "print(np.random.randint(1,7,20))"
   ]
  },
  {
   "cell_type": "code",
   "execution_count": 71,
   "id": "6f8e96d0-845a-41db-a316-dac8d93e1d94",
   "metadata": {},
   "outputs": [],
   "source": [
    "from numpy.random import randint as ri"
   ]
  },
  {
   "cell_type": "code",
   "execution_count": 72,
   "id": "b22d7e78-4d8b-4b93-a6cb-7121d4cd2ae0",
   "metadata": {},
   "outputs": [
    {
     "data": {
      "text/plain": [
       "array([[44, 46, 77, 42, 74],\n",
       "       [41, 38, 72, 27,  3],\n",
       "       [77, 30, 31, 18, 45],\n",
       "       [64, 10, 79, 27,  3],\n",
       "       [ 1, 27, 77, 84, 74],\n",
       "       [95, 88, 75, 92, 13]], dtype=int32)"
      ]
     },
     "execution_count": 72,
     "metadata": {},
     "output_type": "execute_result"
    }
   ],
   "source": [
    "a = ri(1,100,30)\n",
    "b = a.reshape(2,3,5)\n",
    "c = a.reshape(6,-19878)\n",
    "c"
   ]
  },
  {
   "cell_type": "code",
   "execution_count": 73,
   "id": "d041cc1b-6009-4802-ac85-854c616be3d2",
   "metadata": {},
   "outputs": [
    {
     "data": {
      "text/plain": [
       "array([[[44, 46, 77, 42, 74],\n",
       "        [41, 38, 72, 27,  3],\n",
       "        [77, 30, 31, 18, 45]],\n",
       "\n",
       "       [[64, 10, 79, 27,  3],\n",
       "        [ 1, 27, 77, 84, 74],\n",
       "        [95, 88, 75, 92, 13]]], dtype=int32)"
      ]
     },
     "execution_count": 73,
     "metadata": {},
     "output_type": "execute_result"
    }
   ],
   "source": [
    "b"
   ]
  },
  {
   "cell_type": "code",
   "execution_count": 77,
   "id": "908f1680-dae2-440d-ae05-5c03c0ecd6a8",
   "metadata": {},
   "outputs": [
    {
     "name": "stdout",
     "output_type": "stream",
     "text": [
      "\n",
      " Vector or random integers\n",
      " -------------------------------------------------- \n",
      " [46 61 52 69 68 96 28 47 79 99]\n",
      "\n",
      "Here is the sorted vector\n",
      " -------------------------------------------------- \n",
      " [28 46 47 52 61 68 69 79 96 99]\n"
     ]
    }
   ],
   "source": [
    "A = ri(1,100,10)\n",
    "print(\"\\n Vector or random integers\\n\", '-'*50, \"\\n\",A)\n",
    "print(\"\\nHere is the sorted vector\\n\",'-'*50,\"\\n\",np.sort(A))"
   ]
  },
  {
   "cell_type": "code",
   "execution_count": 79,
   "id": "a696a29d-8740-4293-9871-dfad3cdebc91",
   "metadata": {},
   "outputs": [
    {
     "data": {
      "text/plain": [
       "array([[59, 42, 47, 40, 77],\n",
       "       [16, 17, 21, 75, 34],\n",
       "       [17, 55, 59, 45, 99],\n",
       "       [80, 70, 69, 18, 10],\n",
       "       [57,  8, 99, 26, 85]], dtype=int32)"
      ]
     },
     "execution_count": 79,
     "metadata": {},
     "output_type": "execute_result"
    }
   ],
   "source": [
    "M = ri(1,100,25).reshape(5,5)\n",
    "M"
   ]
  },
  {
   "cell_type": "code",
   "execution_count": 80,
   "id": "d3928605-6183-48d0-95bd-5e2ee01c0f8d",
   "metadata": {},
   "outputs": [
    {
     "data": {
      "text/plain": [
       "array([[40, 42, 47, 59, 77],\n",
       "       [16, 17, 21, 34, 75],\n",
       "       [17, 45, 55, 59, 99],\n",
       "       [10, 18, 69, 70, 80],\n",
       "       [ 8, 26, 57, 85, 99]], dtype=int32)"
      ]
     },
     "execution_count": 80,
     "metadata": {},
     "output_type": "execute_result"
    }
   ],
   "source": [
    "N  = np.sort(M, axis = 1)\n",
    "N"
   ]
  },
  {
   "cell_type": "code",
   "execution_count": 82,
   "id": "f5139e29-d8cd-4214-893f-fbf8c3e3d98a",
   "metadata": {},
   "outputs": [
    {
     "name": "stdout",
     "output_type": "stream",
     "text": [
      "Max of a location: [4 3 4 0 2]\n",
      "Max of b location: 25\n"
     ]
    }
   ],
   "source": [
    "print(\"Max of a location:\", M.argmax(axis = 1))\n",
    "print(\"Max of b location:\", b.argmax())"
   ]
  },
  {
   "cell_type": "code",
   "execution_count": 83,
   "id": "74a78c2d-f0d7-40f0-a870-53542c877a8b",
   "metadata": {},
   "outputs": [
    {
     "name": "stdout",
     "output_type": "stream",
     "text": [
      "Array: [ 0  1  2  3  4  5  6  7  8  9 10]\n"
     ]
    }
   ],
   "source": [
    "arr = np.arange(0,11)\n",
    "print(\"Array:\",arr)"
   ]
  },
  {
   "cell_type": "code",
   "execution_count": 88,
   "id": "4f7e3d13-d961-4b4c-a05f-71fc4fb141af",
   "metadata": {},
   "outputs": [
    {
     "name": "stdout",
     "output_type": "stream",
     "text": [
      "3 elements from last backwards are: [10  9  8]\n"
     ]
    }
   ],
   "source": [
    "print(\"3 elements from last backwards are:\", arr[-1:7:-1])"
   ]
  },
  {
   "cell_type": "code",
   "execution_count": 89,
   "id": "ecd7bdcd-407f-4524-b5b3-f15f01aa1767",
   "metadata": {},
   "outputs": [
    {
     "data": {
      "text/plain": [
       "array([[100., 100., 100., 100.],\n",
       "       [100., 100., 100., 100.],\n",
       "       [100., 100., 100., 100.],\n",
       "       [100., 100., 100., 100.]])"
      ]
     },
     "execution_count": 89,
     "metadata": {},
     "output_type": "execute_result"
    }
   ],
   "source": [
    "start = np.zeros((4,4))\n",
    "start = start + 100\n",
    "start"
   ]
  },
  {
   "cell_type": "code",
   "execution_count": 91,
   "id": "b82fe776-f48b-4c76-9ede-a353194595f9",
   "metadata": {},
   "outputs": [
    {
     "data": {
      "text/plain": [
       "array([1, 0, 2, 5])"
      ]
     },
     "execution_count": 91,
     "metadata": {},
     "output_type": "execute_result"
    }
   ],
   "source": [
    "add_rows = np.array([1,0,2,5])\n",
    "add_rows"
   ]
  },
  {
   "cell_type": "code",
   "execution_count": 92,
   "id": "e5afe830-7cf9-488d-a74f-a2287a79a6b6",
   "metadata": {},
   "outputs": [
    {
     "name": "stdout",
     "output_type": "stream",
     "text": [
      "[[101. 100. 102. 105.]\n",
      " [101. 100. 102. 105.]\n",
      " [101. 100. 102. 105.]\n",
      " [101. 100. 102. 105.]]\n"
     ]
    }
   ],
   "source": [
    "y = start + add_rows\n",
    "print(y)"
   ]
  },
  {
   "cell_type": "code",
   "execution_count": 97,
   "id": "cfa99f9c-c6da-4066-8b64-80a945a3db62",
   "metadata": {},
   "outputs": [
    {
     "data": {
      "text/plain": [
       "array([0, 1, 2, 3])"
      ]
     },
     "execution_count": 97,
     "metadata": {},
     "output_type": "execute_result"
    }
   ],
   "source": [
    "#transpose is for rotating data\n",
    "np.array([0,1,2,3]).T\n"
   ]
  },
  {
   "cell_type": "code",
   "execution_count": null,
   "id": "c5e05932-eacd-42b3-861c-993ab0fbe222",
   "metadata": {},
   "outputs": [],
   "source": []
  }
 ],
 "metadata": {
  "kernelspec": {
   "display_name": "Python 3 (ipykernel)",
   "language": "python",
   "name": "python3"
  },
  "language_info": {
   "codemirror_mode": {
    "name": "ipython",
    "version": 3
   },
   "file_extension": ".py",
   "mimetype": "text/x-python",
   "name": "python",
   "nbconvert_exporter": "python",
   "pygments_lexer": "ipython3",
   "version": "3.13.1"
  }
 },
 "nbformat": 4,
 "nbformat_minor": 5
}
